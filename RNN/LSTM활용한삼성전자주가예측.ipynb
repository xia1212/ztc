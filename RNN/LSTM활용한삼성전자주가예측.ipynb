{
  "nbformat": 4,
  "nbformat_minor": 0,
  "metadata": {
    "accelerator": "GPU",
    "colab": {
      "name": "LSTM활용한삼성전자주가예측.ipynb",
      "provenance": [],
      "collapsed_sections": []
    },
    "kernelspec": {
      "display_name": "Python 3",
      "language": "python",
      "name": "python3"
    },
    "language_info": {
      "codemirror_mode": {
        "name": "ipython",
        "version": 3
      },
      "file_extension": ".py",
      "mimetype": "text/x-python",
      "name": "python",
      "nbconvert_exporter": "python",
      "pygments_lexer": "ipython3",
      "version": "3.7.3"
    }
  },
  "cells": [
    {
      "cell_type": "markdown",
      "metadata": {
        "id": "QpJUJia4IbVS"
      },
      "source": [
        "LSTM 기반의 삼성전자 주가 예측 예제\n",
        " - yahoo finance 에서 데이터 다운로드 후 3일(3MA), 5일(5MA) 가격이평선 추가"
      ]
    },
    {
      "cell_type": "code",
      "metadata": {
        "id": "Ah3M-kc3aZqy"
      },
      "source": [
        "import tensorflow as tf\n",
        "import numpy as np\n",
        "import pandas as pd\n",
        "import matplotlib.pyplot as plt\n",
        "from tensorflow.keras.models import Sequential\n",
        "from tensorflow.keras.layers import LSTM, Dense, Dropout"
      ],
      "execution_count": 16,
      "outputs": []
    },
    {
      "cell_type": "markdown",
      "metadata": {
        "id": "tU_3ujIh9_N0"
      },
      "source": [
        "데이터 불러오기"
      ]
    },
    {
      "cell_type": "code",
      "metadata": {
        "colab": {
          "base_uri": "https://localhost:8080/",
          "height": 206
        },
        "id": "9srMq0M9fXwk",
        "outputId": "ba65ba86-96fc-4d71-a3b8-313ae94e80df"
      },
      "source": [
        "raw_df = pd.read_csv('./005930.KS_3MA_5MA.csv')  # yahoo finance 로부터 데이터 다운로드\n",
        "\n",
        "raw_df.head()"
      ],
      "execution_count": 17,
      "outputs": [
        {
          "output_type": "execute_result",
          "data": {
            "text/html": [
              "\n",
              "  <div id=\"df-4a772bbf-fe6b-4a6a-8a18-07e2230492b3\">\n",
              "    <div class=\"colab-df-container\">\n",
              "      <div>\n",
              "<style scoped>\n",
              "    .dataframe tbody tr th:only-of-type {\n",
              "        vertical-align: middle;\n",
              "    }\n",
              "\n",
              "    .dataframe tbody tr th {\n",
              "        vertical-align: top;\n",
              "    }\n",
              "\n",
              "    .dataframe thead th {\n",
              "        text-align: right;\n",
              "    }\n",
              "</style>\n",
              "<table border=\"1\" class=\"dataframe\">\n",
              "  <thead>\n",
              "    <tr style=\"text-align: right;\">\n",
              "      <th></th>\n",
              "      <th>Date</th>\n",
              "      <th>Open</th>\n",
              "      <th>High</th>\n",
              "      <th>Low</th>\n",
              "      <th>Close</th>\n",
              "      <th>Adj Close</th>\n",
              "      <th>Volume</th>\n",
              "      <th>3MA</th>\n",
              "      <th>5MA</th>\n",
              "    </tr>\n",
              "  </thead>\n",
              "  <tbody>\n",
              "    <tr>\n",
              "      <th>0</th>\n",
              "      <td>2000-01-04</td>\n",
              "      <td>6000.0</td>\n",
              "      <td>6110.0</td>\n",
              "      <td>5660.0</td>\n",
              "      <td>6110.0</td>\n",
              "      <td>4740.119629</td>\n",
              "      <td>74195000.0</td>\n",
              "      <td>NaN</td>\n",
              "      <td>NaN</td>\n",
              "    </tr>\n",
              "    <tr>\n",
              "      <th>1</th>\n",
              "      <td>2000-01-05</td>\n",
              "      <td>5800.0</td>\n",
              "      <td>6060.0</td>\n",
              "      <td>5520.0</td>\n",
              "      <td>5580.0</td>\n",
              "      <td>4328.947754</td>\n",
              "      <td>74680000.0</td>\n",
              "      <td>NaN</td>\n",
              "      <td>NaN</td>\n",
              "    </tr>\n",
              "    <tr>\n",
              "      <th>2</th>\n",
              "      <td>2000-01-06</td>\n",
              "      <td>5750.0</td>\n",
              "      <td>5780.0</td>\n",
              "      <td>5580.0</td>\n",
              "      <td>5620.0</td>\n",
              "      <td>4359.979492</td>\n",
              "      <td>54390000.0</td>\n",
              "      <td>4476.348958</td>\n",
              "      <td>NaN</td>\n",
              "    </tr>\n",
              "    <tr>\n",
              "      <th>3</th>\n",
              "      <td>2000-01-07</td>\n",
              "      <td>5560.0</td>\n",
              "      <td>5670.0</td>\n",
              "      <td>5360.0</td>\n",
              "      <td>5540.0</td>\n",
              "      <td>4297.916992</td>\n",
              "      <td>40305000.0</td>\n",
              "      <td>4328.948079</td>\n",
              "      <td>NaN</td>\n",
              "    </tr>\n",
              "    <tr>\n",
              "      <th>4</th>\n",
              "      <td>2000-01-10</td>\n",
              "      <td>5600.0</td>\n",
              "      <td>5770.0</td>\n",
              "      <td>5580.0</td>\n",
              "      <td>5770.0</td>\n",
              "      <td>4476.349121</td>\n",
              "      <td>46880000.0</td>\n",
              "      <td>4378.081868</td>\n",
              "      <td>4440.662598</td>\n",
              "    </tr>\n",
              "  </tbody>\n",
              "</table>\n",
              "</div>\n",
              "      <button class=\"colab-df-convert\" onclick=\"convertToInteractive('df-4a772bbf-fe6b-4a6a-8a18-07e2230492b3')\"\n",
              "              title=\"Convert this dataframe to an interactive table.\"\n",
              "              style=\"display:none;\">\n",
              "        \n",
              "  <svg xmlns=\"http://www.w3.org/2000/svg\" height=\"24px\"viewBox=\"0 0 24 24\"\n",
              "       width=\"24px\">\n",
              "    <path d=\"M0 0h24v24H0V0z\" fill=\"none\"/>\n",
              "    <path d=\"M18.56 5.44l.94 2.06.94-2.06 2.06-.94-2.06-.94-.94-2.06-.94 2.06-2.06.94zm-11 1L8.5 8.5l.94-2.06 2.06-.94-2.06-.94L8.5 2.5l-.94 2.06-2.06.94zm10 10l.94 2.06.94-2.06 2.06-.94-2.06-.94-.94-2.06-.94 2.06-2.06.94z\"/><path d=\"M17.41 7.96l-1.37-1.37c-.4-.4-.92-.59-1.43-.59-.52 0-1.04.2-1.43.59L10.3 9.45l-7.72 7.72c-.78.78-.78 2.05 0 2.83L4 21.41c.39.39.9.59 1.41.59.51 0 1.02-.2 1.41-.59l7.78-7.78 2.81-2.81c.8-.78.8-2.07 0-2.86zM5.41 20L4 18.59l7.72-7.72 1.47 1.35L5.41 20z\"/>\n",
              "  </svg>\n",
              "      </button>\n",
              "      \n",
              "  <style>\n",
              "    .colab-df-container {\n",
              "      display:flex;\n",
              "      flex-wrap:wrap;\n",
              "      gap: 12px;\n",
              "    }\n",
              "\n",
              "    .colab-df-convert {\n",
              "      background-color: #E8F0FE;\n",
              "      border: none;\n",
              "      border-radius: 50%;\n",
              "      cursor: pointer;\n",
              "      display: none;\n",
              "      fill: #1967D2;\n",
              "      height: 32px;\n",
              "      padding: 0 0 0 0;\n",
              "      width: 32px;\n",
              "    }\n",
              "\n",
              "    .colab-df-convert:hover {\n",
              "      background-color: #E2EBFA;\n",
              "      box-shadow: 0px 1px 2px rgba(60, 64, 67, 0.3), 0px 1px 3px 1px rgba(60, 64, 67, 0.15);\n",
              "      fill: #174EA6;\n",
              "    }\n",
              "\n",
              "    [theme=dark] .colab-df-convert {\n",
              "      background-color: #3B4455;\n",
              "      fill: #D2E3FC;\n",
              "    }\n",
              "\n",
              "    [theme=dark] .colab-df-convert:hover {\n",
              "      background-color: #434B5C;\n",
              "      box-shadow: 0px 1px 3px 1px rgba(0, 0, 0, 0.15);\n",
              "      filter: drop-shadow(0px 1px 2px rgba(0, 0, 0, 0.3));\n",
              "      fill: #FFFFFF;\n",
              "    }\n",
              "  </style>\n",
              "\n",
              "      <script>\n",
              "        const buttonEl =\n",
              "          document.querySelector('#df-4a772bbf-fe6b-4a6a-8a18-07e2230492b3 button.colab-df-convert');\n",
              "        buttonEl.style.display =\n",
              "          google.colab.kernel.accessAllowed ? 'block' : 'none';\n",
              "\n",
              "        async function convertToInteractive(key) {\n",
              "          const element = document.querySelector('#df-4a772bbf-fe6b-4a6a-8a18-07e2230492b3');\n",
              "          const dataTable =\n",
              "            await google.colab.kernel.invokeFunction('convertToInteractive',\n",
              "                                                     [key], {});\n",
              "          if (!dataTable) return;\n",
              "\n",
              "          const docLinkHtml = 'Like what you see? Visit the ' +\n",
              "            '<a target=\"_blank\" href=https://colab.research.google.com/notebooks/data_table.ipynb>data table notebook</a>'\n",
              "            + ' to learn more about interactive tables.';\n",
              "          element.innerHTML = '';\n",
              "          dataTable['output_type'] = 'display_data';\n",
              "          await google.colab.output.renderOutput(dataTable, element);\n",
              "          const docLink = document.createElement('div');\n",
              "          docLink.innerHTML = docLinkHtml;\n",
              "          element.appendChild(docLink);\n",
              "        }\n",
              "      </script>\n",
              "    </div>\n",
              "  </div>\n",
              "  "
            ],
            "text/plain": [
              "         Date    Open    High  ...      Volume          3MA          5MA\n",
              "0  2000-01-04  6000.0  6110.0  ...  74195000.0          NaN          NaN\n",
              "1  2000-01-05  5800.0  6060.0  ...  74680000.0          NaN          NaN\n",
              "2  2000-01-06  5750.0  5780.0  ...  54390000.0  4476.348958          NaN\n",
              "3  2000-01-07  5560.0  5670.0  ...  40305000.0  4328.948079          NaN\n",
              "4  2000-01-10  5600.0  5770.0  ...  46880000.0  4378.081868  4440.662598\n",
              "\n",
              "[5 rows x 9 columns]"
            ]
          },
          "metadata": {},
          "execution_count": 17
        }
      ]
    },
    {
      "cell_type": "code",
      "source": [
        "# Adj close = 우리가 예측할 값(수정 종가)"
      ],
      "metadata": {
        "id": "fic38LdPNAKS"
      },
      "execution_count": null,
      "outputs": []
    },
    {
      "cell_type": "code",
      "metadata": {
        "colab": {
          "base_uri": "https://localhost:8080/",
          "height": 294
        },
        "id": "d1lsO_jInckj",
        "outputId": "1f441cd2-23bc-450a-e051-5e8242676f7d"
      },
      "source": [
        "plt.title('SAMSUNG ELECTRONIC STCOK PRICE')\n",
        "plt.ylabel('price')\n",
        "plt.xlabel('period')\n",
        "plt.grid()\n",
        "\n",
        "plt.plot(raw_df['Adj Close'], label='Adj Close')\n",
        "\n",
        "plt.show()"
      ],
      "execution_count": 19,
      "outputs": [
        {
          "output_type": "display_data",
          "data": {
            "image/png": "[encoded data removed]",
            "text/plain": [
              "<Figure size 432x288 with 1 Axes>"
            ]
          },
          "metadata": {
            "needs_background": "light"
          }
        }
      ]
    },
    {
      "cell_type": "markdown",
      "metadata": {
        "id": "iQtB5ixT-KZt"
      },
      "source": [
        "데이터 전처리 (Missing Data 처리, 정규화 등)"
      ]
    },
    {
      "cell_type": "code",
      "source": [
        "# 통계적으로 비정상적으로 크거나 작은 데이터인 outlier(특이값)는 \n",
        "딥러닝 학습을 하기 위해서는 적절한 값으로 바꾸거나 삭제하는 등의 처리가 반드시 필요함"
      ],
      "metadata": {
        "id": "5-lCKKe0NXhk"
      },
      "execution_count": null,
      "outputs": []
    },
    {
      "cell_type": "code",
      "metadata": {
        "colab": {
          "base_uri": "https://localhost:8080/",
          "height": 344
        },
        "id": "LtXkxvPchBSW",
        "outputId": "281cb888-8e57-453d-f4c9-6cd0182c6ad7"
      },
      "source": [
        "# 통계정보 확인\n",
        "\n",
        "raw_df.describe()"
      ],
      "execution_count": 21,
      "outputs": [
        {
          "output_type": "execute_result",
          "data": {
            "text/html": [
              "\n",
              "  <div id=\"df-701995a6-990e-451c-9bc1-42be8b1d7880\">\n",
              "    <div class=\"colab-df-container\">\n",
              "      <div>\n",
              "<style scoped>\n",
              "    .dataframe tbody tr th:only-of-type {\n",
              "        vertical-align: middle;\n",
              "    }\n",
              "\n",
              "    .dataframe tbody tr th {\n",
              "        vertical-align: top;\n",
              "    }\n",
              "\n",
              "    .dataframe thead th {\n",
              "        text-align: right;\n",
              "    }\n",
              "</style>\n",
              "<table border=\"1\" class=\"dataframe\">\n",
              "  <thead>\n",
              "    <tr style=\"text-align: right;\">\n",
              "      <th></th>\n",
              "      <th>Open</th>\n",
              "      <th>High</th>\n",
              "      <th>Low</th>\n",
              "      <th>Close</th>\n",
              "      <th>Adj Close</th>\n",
              "      <th>Volume</th>\n",
              "      <th>3MA</th>\n",
              "      <th>5MA</th>\n",
              "    </tr>\n",
              "  </thead>\n",
              "  <tbody>\n",
              "    <tr>\n",
              "      <th>count</th>\n",
              "      <td>5389.000000</td>\n",
              "      <td>5389.000000</td>\n",
              "      <td>5389.000000</td>\n",
              "      <td>5389.000000</td>\n",
              "      <td>5389.000000</td>\n",
              "      <td>5.389000e+03</td>\n",
              "      <td>5393.000000</td>\n",
              "      <td>5391.000000</td>\n",
              "    </tr>\n",
              "    <tr>\n",
              "      <th>mean</th>\n",
              "      <td>22801.887178</td>\n",
              "      <td>23043.991464</td>\n",
              "      <td>22559.285582</td>\n",
              "      <td>22801.909445</td>\n",
              "      <td>19920.044863</td>\n",
              "      <td>2.207838e+07</td>\n",
              "      <td>19934.224878</td>\n",
              "      <td>19925.585966</td>\n",
              "    </tr>\n",
              "    <tr>\n",
              "      <th>std</th>\n",
              "      <td>17736.201238</td>\n",
              "      <td>17906.827402</td>\n",
              "      <td>17572.109940</td>\n",
              "      <td>17733.296811</td>\n",
              "      <td>17322.636387</td>\n",
              "      <td>1.564053e+07</td>\n",
              "      <td>17313.297249</td>\n",
              "      <td>17292.697383</td>\n",
              "    </tr>\n",
              "    <tr>\n",
              "      <th>min</th>\n",
              "      <td>2540.000000</td>\n",
              "      <td>2760.000000</td>\n",
              "      <td>2420.000000</td>\n",
              "      <td>2730.000000</td>\n",
              "      <td>2117.926025</td>\n",
              "      <td>0.000000e+00</td>\n",
              "      <td>2164.473877</td>\n",
              "      <td>2179.989746</td>\n",
              "    </tr>\n",
              "    <tr>\n",
              "      <th>25%</th>\n",
              "      <td>9880.000000</td>\n",
              "      <td>9990.000000</td>\n",
              "      <td>9800.000000</td>\n",
              "      <td>9900.000000</td>\n",
              "      <td>7726.937988</td>\n",
              "      <td>1.185265e+07</td>\n",
              "      <td>7726.939453</td>\n",
              "      <td>7709.871631</td>\n",
              "    </tr>\n",
              "    <tr>\n",
              "      <th>50%</th>\n",
              "      <td>15760.000000</td>\n",
              "      <td>15940.000000</td>\n",
              "      <td>15560.000000</td>\n",
              "      <td>15800.000000</td>\n",
              "      <td>12808.596680</td>\n",
              "      <td>1.803935e+07</td>\n",
              "      <td>12802.806970</td>\n",
              "      <td>12809.314840</td>\n",
              "    </tr>\n",
              "    <tr>\n",
              "      <th>75%</th>\n",
              "      <td>29280.000000</td>\n",
              "      <td>29560.000000</td>\n",
              "      <td>29000.000000</td>\n",
              "      <td>29280.000000</td>\n",
              "      <td>24566.556640</td>\n",
              "      <td>2.771475e+07</td>\n",
              "      <td>24558.166020</td>\n",
              "      <td>24555.269140</td>\n",
              "    </tr>\n",
              "    <tr>\n",
              "      <th>max</th>\n",
              "      <td>90300.000000</td>\n",
              "      <td>96800.000000</td>\n",
              "      <td>89500.000000</td>\n",
              "      <td>91000.000000</td>\n",
              "      <td>90597.414060</td>\n",
              "      <td>1.642150e+08</td>\n",
              "      <td>90033.252600</td>\n",
              "      <td>89562.014060</td>\n",
              "    </tr>\n",
              "  </tbody>\n",
              "</table>\n",
              "</div>\n",
              "      <button class=\"colab-df-convert\" onclick=\"convertToInteractive('df-701995a6-990e-451c-9bc1-42be8b1d7880')\"\n",
              "              title=\"Convert this dataframe to an interactive table.\"\n",
              "              style=\"display:none;\">\n",
              "        \n",
              "  <svg xmlns=\"http://www.w3.org/2000/svg\" height=\"24px\"viewBox=\"0 0 24 24\"\n",
              "       width=\"24px\">\n",
              "    <path d=\"M0 0h24v24H0V0z\" fill=\"none\"/>\n",
              "    <path d=\"M18.56 5.44l.94 2.06.94-2.06 2.06-.94-2.06-.94-.94-2.06-.94 2.06-2.06.94zm-11 1L8.5 8.5l.94-2.06 2.06-.94-2.06-.94L8.5 2.5l-.94 2.06-2.06.94zm10 10l.94 2.06.94-2.06 2.06-.94-2.06-.94-.94-2.06-.94 2.06-2.06.94z\"/><path d=\"M17.41 7.96l-1.37-1.37c-.4-.4-.92-.59-1.43-.59-.52 0-1.04.2-1.43.59L10.3 9.45l-7.72 7.72c-.78.78-.78 2.05 0 2.83L4 21.41c.39.39.9.59 1.41.59.51 0 1.02-.2 1.41-.59l7.78-7.78 2.81-2.81c.8-.78.8-2.07 0-2.86zM5.41 20L4 18.59l7.72-7.72 1.47 1.35L5.41 20z\"/>\n",
              "  </svg>\n",
              "      </button>\n",
              "      \n",
              "  <style>\n",
              "    .colab-df-container {\n",
              "      display:flex;\n",
              "      flex-wrap:wrap;\n",
              "      gap: 12px;\n",
              "    }\n",
              "\n",
              "    .colab-df-convert {\n",
              "      background-color: #E8F0FE;\n",
              "      border: none;\n",
              "      border-radius: 50%;\n",
              "      cursor: pointer;\n",
              "      display: none;\n",
              "      fill: #1967D2;\n",
              "      height: 32px;\n",
              "      padding: 0 0 0 0;\n",
              "      width: 32px;\n",
              "    }\n",
              "\n",
              "    .colab-df-convert:hover {\n",
              "      background-color: #E2EBFA;\n",
              "      box-shadow: 0px 1px 2px rgba(60, 64, 67, 0.3), 0px 1px 3px 1px rgba(60, 64, 67, 0.15);\n",
              "      fill: #174EA6;\n",
              "    }\n",
              "\n",
              "    [theme=dark] .colab-df-convert {\n",
              "      background-color: #3B4455;\n",
              "      fill: #D2E3FC;\n",
              "    }\n",
              "\n",
              "    [theme=dark] .colab-df-convert:hover {\n",
              "      background-color: #434B5C;\n",
              "      box-shadow: 0px 1px 3px 1px rgba(0, 0, 0, 0.15);\n",
              "      filter: drop-shadow(0px 1px 2px rgba(0, 0, 0, 0.3));\n",
              "      fill: #FFFFFF;\n",
              "    }\n",
              "  </style>\n",
              "\n",
              "      <script>\n",
              "        const buttonEl =\n",
              "          document.querySelector('#df-701995a6-990e-451c-9bc1-42be8b1d7880 button.colab-df-convert');\n",
              "        buttonEl.style.display =\n",
              "          google.colab.kernel.accessAllowed ? 'block' : 'none';\n",
              "\n",
              "        async function convertToInteractive(key) {\n",
              "          const element = document.querySelector('#df-701995a6-990e-451c-9bc1-42be8b1d7880');\n",
              "          const dataTable =\n",
              "            await google.colab.kernel.invokeFunction('convertToInteractive',\n",
              "                                                     [key], {});\n",
              "          if (!dataTable) return;\n",
              "\n",
              "          const docLinkHtml = 'Like what you see? Visit the ' +\n",
              "            '<a target=\"_blank\" href=https://colab.research.google.com/notebooks/data_table.ipynb>data table notebook</a>'\n",
              "            + ' to learn more about interactive tables.';\n",
              "          element.innerHTML = '';\n",
              "          dataTable['output_type'] = 'display_data';\n",
              "          await google.colab.output.renderOutput(dataTable, element);\n",
              "          const docLink = document.createElement('div');\n",
              "          docLink.innerHTML = docLinkHtml;\n",
              "          element.appendChild(docLink);\n",
              "        }\n",
              "      </script>\n",
              "    </div>\n",
              "  </div>\n",
              "  "
            ],
            "text/plain": [
              "               Open          High  ...           3MA           5MA\n",
              "count   5389.000000   5389.000000  ...   5393.000000   5391.000000\n",
              "mean   22801.887178  23043.991464  ...  19934.224878  19925.585966\n",
              "std    17736.201238  17906.827402  ...  17313.297249  17292.697383\n",
              "min     2540.000000   2760.000000  ...   2164.473877   2179.989746\n",
              "25%     9880.000000   9990.000000  ...   7726.939453   7709.871631\n",
              "50%    15760.000000  15940.000000  ...  12802.806970  12809.314840\n",
              "75%    29280.000000  29560.000000  ...  24558.166020  24555.269140\n",
              "max    90300.000000  96800.000000  ...  90033.252600  89562.014060\n",
              "\n",
              "[8 rows x 8 columns]"
            ]
          },
          "metadata": {},
          "execution_count": 21
        }
      ]
    },
    {
      "cell_type": "code",
      "source": [
        "# 결측치(missing value)는 특정 데이터가 누락된 것, outlier와 마찬가지로 이러한 missing value를 제거하거나\n",
        "적절한 값으로 대체하는 등의 처리가 필요함"
      ],
      "metadata": {
        "id": "SrAmORIkNpDQ"
      },
      "execution_count": null,
      "outputs": []
    },
    {
      "cell_type": "code",
      "metadata": {
        "colab": {
          "base_uri": "https://localhost:8080/"
        },
        "id": "ExtqrJEXWjBS",
        "outputId": "348c8809-eab4-48a5-a065-a31110ebfa78"
      },
      "source": [
        "# Missing Data 확인\n",
        "\n",
        "raw_df.isnull().sum()"
      ],
      "execution_count": 23,
      "outputs": [
        {
          "output_type": "execute_result",
          "data": {
            "text/plain": [
              "Date         0\n",
              "Open         6\n",
              "High         6\n",
              "Low          6\n",
              "Close        6\n",
              "Adj Close    6\n",
              "Volume       6\n",
              "3MA          2\n",
              "5MA          4\n",
              "dtype: int64"
            ]
          },
          "metadata": {},
          "execution_count": 23
        }
      ]
    },
    {
      "cell_type": "code",
      "source": [
        "raw_df.loc[raw_df['Open'].isna()]"
      ],
      "metadata": {
        "colab": {
          "base_uri": "https://localhost:8080/",
          "height": 237
        },
        "id": "v2c2Bi8hN_an",
        "outputId": "85d4229c-5b8b-4a0e-db23-816125373fd8"
      },
      "execution_count": 27,
      "outputs": [
        {
          "output_type": "execute_result",
          "data": {
            "text/html": [
              "\n",
              "  <div id=\"df-976a21b2-ee14-4013-a91f-685c245492d2\">\n",
              "    <div class=\"colab-df-container\">\n",
              "      <div>\n",
              "<style scoped>\n",
              "    .dataframe tbody tr th:only-of-type {\n",
              "        vertical-align: middle;\n",
              "    }\n",
              "\n",
              "    .dataframe tbody tr th {\n",
              "        vertical-align: top;\n",
              "    }\n",
              "\n",
              "    .dataframe thead th {\n",
              "        text-align: right;\n",
              "    }\n",
              "</style>\n",
              "<table border=\"1\" class=\"dataframe\">\n",
              "  <thead>\n",
              "    <tr style=\"text-align: right;\">\n",
              "      <th></th>\n",
              "      <th>Date</th>\n",
              "      <th>Open</th>\n",
              "      <th>High</th>\n",
              "      <th>Low</th>\n",
              "      <th>Close</th>\n",
              "      <th>Adj Close</th>\n",
              "      <th>Volume</th>\n",
              "      <th>3MA</th>\n",
              "      <th>5MA</th>\n",
              "    </tr>\n",
              "  </thead>\n",
              "  <tbody>\n",
              "    <tr>\n",
              "      <th>1304</th>\n",
              "      <td>2005-01-03</td>\n",
              "      <td>NaN</td>\n",
              "      <td>NaN</td>\n",
              "      <td>NaN</td>\n",
              "      <td>NaN</td>\n",
              "      <td>NaN</td>\n",
              "      <td>NaN</td>\n",
              "      <td>6989.931152</td>\n",
              "      <td>6910.412353</td>\n",
              "    </tr>\n",
              "    <tr>\n",
              "      <th>4513</th>\n",
              "      <td>2017-11-16</td>\n",
              "      <td>NaN</td>\n",
              "      <td>NaN</td>\n",
              "      <td>NaN</td>\n",
              "      <td>NaN</td>\n",
              "      <td>NaN</td>\n",
              "      <td>NaN</td>\n",
              "      <td>49382.673830</td>\n",
              "      <td>49719.997070</td>\n",
              "    </tr>\n",
              "    <tr>\n",
              "      <th>4518</th>\n",
              "      <td>2017-11-23</td>\n",
              "      <td>NaN</td>\n",
              "      <td>NaN</td>\n",
              "      <td>NaN</td>\n",
              "      <td>NaN</td>\n",
              "      <td>NaN</td>\n",
              "      <td>NaN</td>\n",
              "      <td>49373.792970</td>\n",
              "      <td>49324.969730</td>\n",
              "    </tr>\n",
              "    <tr>\n",
              "      <th>4542</th>\n",
              "      <td>2018-01-02</td>\n",
              "      <td>NaN</td>\n",
              "      <td>NaN</td>\n",
              "      <td>NaN</td>\n",
              "      <td>NaN</td>\n",
              "      <td>NaN</td>\n",
              "      <td>NaN</td>\n",
              "      <td>44927.763670</td>\n",
              "      <td>44190.302730</td>\n",
              "    </tr>\n",
              "    <tr>\n",
              "      <th>4755</th>\n",
              "      <td>2018-11-15</td>\n",
              "      <td>NaN</td>\n",
              "      <td>NaN</td>\n",
              "      <td>NaN</td>\n",
              "      <td>NaN</td>\n",
              "      <td>NaN</td>\n",
              "      <td>NaN</td>\n",
              "      <td>40569.835940</td>\n",
              "      <td>40775.886720</td>\n",
              "    </tr>\n",
              "    <tr>\n",
              "      <th>5000</th>\n",
              "      <td>2019-11-14</td>\n",
              "      <td>NaN</td>\n",
              "      <td>NaN</td>\n",
              "      <td>NaN</td>\n",
              "      <td>NaN</td>\n",
              "      <td>NaN</td>\n",
              "      <td>NaN</td>\n",
              "      <td>49695.419920</td>\n",
              "      <td>49364.432620</td>\n",
              "    </tr>\n",
              "  </tbody>\n",
              "</table>\n",
              "</div>\n",
              "      <button class=\"colab-df-convert\" onclick=\"convertToInteractive('df-976a21b2-ee14-4013-a91f-685c245492d2')\"\n",
              "              title=\"Convert this dataframe to an interactive table.\"\n",
              "              style=\"display:none;\">\n",
              "        \n",
              "  <svg xmlns=\"http://www.w3.org/2000/svg\" height=\"24px\"viewBox=\"0 0 24 24\"\n",
              "       width=\"24px\">\n",
              "    <path d=\"M0 0h24v24H0V0z\" fill=\"none\"/>\n",
              "    <path d=\"M18.56 5.44l.94 2.06.94-2.06 2.06-.94-2.06-.94-.94-2.06-.94 2.06-2.06.94zm-11 1L8.5 8.5l.94-2.06 2.06-.94-2.06-.94L8.5 2.5l-.94 2.06-2.06.94zm10 10l.94 2.06.94-2.06 2.06-.94-2.06-.94-.94-2.06-.94 2.06-2.06.94z\"/><path d=\"M17.41 7.96l-1.37-1.37c-.4-.4-.92-.59-1.43-.59-.52 0-1.04.2-1.43.59L10.3 9.45l-7.72 7.72c-.78.78-.78 2.05 0 2.83L4 21.41c.39.39.9.59 1.41.59.51 0 1.02-.2 1.41-.59l7.78-7.78 2.81-2.81c.8-.78.8-2.07 0-2.86zM5.41 20L4 18.59l7.72-7.72 1.47 1.35L5.41 20z\"/>\n",
              "  </svg>\n",
              "      </button>\n",
              "      \n",
              "  <style>\n",
              "    .colab-df-container {\n",
              "      display:flex;\n",
              "      flex-wrap:wrap;\n",
              "      gap: 12px;\n",
              "    }\n",
              "\n",
              "    .colab-df-convert {\n",
              "      background-color: #E8F0FE;\n",
              "      border: none;\n",
              "      border-radius: 50%;\n",
              "      cursor: pointer;\n",
              "      display: none;\n",
              "      fill: #1967D2;\n",
              "      height: 32px;\n",
              "      padding: 0 0 0 0;\n",
              "      width: 32px;\n",
              "    }\n",
              "\n",
              "    .colab-df-convert:hover {\n",
              "      background-color: #E2EBFA;\n",
              "      box-shadow: 0px 1px 2px rgba(60, 64, 67, 0.3), 0px 1px 3px 1px rgba(60, 64, 67, 0.15);\n",
              "      fill: #174EA6;\n",
              "    }\n",
              "\n",
              "    [theme=dark] .colab-df-convert {\n",
              "      background-color: #3B4455;\n",
              "      fill: #D2E3FC;\n",
              "    }\n",
              "\n",
              "    [theme=dark] .colab-df-convert:hover {\n",
              "      background-color: #434B5C;\n",
              "      box-shadow: 0px 1px 3px 1px rgba(0, 0, 0, 0.15);\n",
              "      filter: drop-shadow(0px 1px 2px rgba(0, 0, 0, 0.3));\n",
              "      fill: #FFFFFF;\n",
              "    }\n",
              "  </style>\n",
              "\n",
              "      <script>\n",
              "        const buttonEl =\n",
              "          document.querySelector('#df-976a21b2-ee14-4013-a91f-685c245492d2 button.colab-df-convert');\n",
              "        buttonEl.style.display =\n",
              "          google.colab.kernel.accessAllowed ? 'block' : 'none';\n",
              "\n",
              "        async function convertToInteractive(key) {\n",
              "          const element = document.querySelector('#df-976a21b2-ee14-4013-a91f-685c245492d2');\n",
              "          const dataTable =\n",
              "            await google.colab.kernel.invokeFunction('convertToInteractive',\n",
              "                                                     [key], {});\n",
              "          if (!dataTable) return;\n",
              "\n",
              "          const docLinkHtml = 'Like what you see? Visit the ' +\n",
              "            '<a target=\"_blank\" href=https://colab.research.google.com/notebooks/data_table.ipynb>data table notebook</a>'\n",
              "            + ' to learn more about interactive tables.';\n",
              "          element.innerHTML = '';\n",
              "          dataTable['output_type'] = 'display_data';\n",
              "          await google.colab.output.renderOutput(dataTable, element);\n",
              "          const docLink = document.createElement('div');\n",
              "          docLink.innerHTML = docLinkHtml;\n",
              "          element.appendChild(docLink);\n",
              "        }\n",
              "      </script>\n",
              "    </div>\n",
              "  </div>\n",
              "  "
            ],
            "text/plain": [
              "            Date  Open  High  ...  Volume           3MA           5MA\n",
              "1304  2005-01-03   NaN   NaN  ...     NaN   6989.931152   6910.412353\n",
              "4513  2017-11-16   NaN   NaN  ...     NaN  49382.673830  49719.997070\n",
              "4518  2017-11-23   NaN   NaN  ...     NaN  49373.792970  49324.969730\n",
              "4542  2018-01-02   NaN   NaN  ...     NaN  44927.763670  44190.302730\n",
              "4755  2018-11-15   NaN   NaN  ...     NaN  40569.835940  40775.886720\n",
              "5000  2019-11-14   NaN   NaN  ...     NaN  49695.419920  49364.432620\n",
              "\n",
              "[6 rows x 9 columns]"
            ]
          },
          "metadata": {},
          "execution_count": 27
        }
      ]
    },
    {
      "cell_type": "code",
      "metadata": {
        "colab": {
          "base_uri": "https://localhost:8080/"
        },
        "id": "eJKlSQjlxvgj",
        "outputId": "25e514b3-efc9-4921-def1-441155407038"
      },
      "source": [
        "# 최소값이 0 인 column 체크\n",
        "\n",
        "for col in raw_df.columns:\n",
        "\n",
        "    if raw_df[col].min() == 0:\n",
        "        col_name = col\n",
        "        print(col_name, type(col_name))"
      ],
      "execution_count": 28,
      "outputs": [
        {
          "output_type": "stream",
          "name": "stdout",
          "text": [
            "Volume <class 'str'>\n"
          ]
        }
      ]
    },
    {
      "cell_type": "code",
      "metadata": {
        "colab": {
          "base_uri": "https://localhost:8080/",
          "height": 423
        },
        "id": "-sjMP002VR5P",
        "outputId": "78e911d6-34b0-495a-a58a-6475868968ea"
      },
      "source": [
        "# vloume 값 0 을  NAN 으로 모두 대체(replace)\n",
        "raw_df.loc[raw_df['Volume']==0]"
      ],
      "execution_count": 29,
      "outputs": [
        {
          "output_type": "execute_result",
          "data": {
            "text/html": [
              "\n",
              "  <div id=\"df-63f9a5e0-6aff-4add-a2a4-a3f5ffbec181\">\n",
              "    <div class=\"colab-df-container\">\n",
              "      <div>\n",
              "<style scoped>\n",
              "    .dataframe tbody tr th:only-of-type {\n",
              "        vertical-align: middle;\n",
              "    }\n",
              "\n",
              "    .dataframe tbody tr th {\n",
              "        vertical-align: top;\n",
              "    }\n",
              "\n",
              "    .dataframe thead th {\n",
              "        text-align: right;\n",
              "    }\n",
              "</style>\n",
              "<table border=\"1\" class=\"dataframe\">\n",
              "  <thead>\n",
              "    <tr style=\"text-align: right;\">\n",
              "      <th></th>\n",
              "      <th>Date</th>\n",
              "      <th>Open</th>\n",
              "      <th>High</th>\n",
              "      <th>Low</th>\n",
              "      <th>Close</th>\n",
              "      <th>Adj Close</th>\n",
              "      <th>Volume</th>\n",
              "      <th>3MA</th>\n",
              "      <th>5MA</th>\n",
              "    </tr>\n",
              "  </thead>\n",
              "  <tbody>\n",
              "    <tr>\n",
              "      <th>23</th>\n",
              "      <td>2000-02-04</td>\n",
              "      <td>5130.0</td>\n",
              "      <td>5130.0</td>\n",
              "      <td>5130.0</td>\n",
              "      <td>5130.0</td>\n",
              "      <td>3979.839355</td>\n",
              "      <td>0.0</td>\n",
              "      <td>4010.871419</td>\n",
              "      <td>4097.760644</td>\n",
              "    </tr>\n",
              "    <tr>\n",
              "      <th>41</th>\n",
              "      <td>2000-03-01</td>\n",
              "      <td>5120.0</td>\n",
              "      <td>5120.0</td>\n",
              "      <td>5120.0</td>\n",
              "      <td>5120.0</td>\n",
              "      <td>3972.081543</td>\n",
              "      <td>0.0</td>\n",
              "      <td>3889.329834</td>\n",
              "      <td>3914.672510</td>\n",
              "    </tr>\n",
              "    <tr>\n",
              "      <th>66</th>\n",
              "      <td>2000-04-05</td>\n",
              "      <td>6800.0</td>\n",
              "      <td>6800.0</td>\n",
              "      <td>6800.0</td>\n",
              "      <td>6800.0</td>\n",
              "      <td>5275.420410</td>\n",
              "      <td>0.0</td>\n",
              "      <td>5353.000163</td>\n",
              "      <td>5345.242773</td>\n",
              "    </tr>\n",
              "    <tr>\n",
              "      <th>72</th>\n",
              "      <td>2000-04-13</td>\n",
              "      <td>6910.0</td>\n",
              "      <td>6910.0</td>\n",
              "      <td>6910.0</td>\n",
              "      <td>6910.0</td>\n",
              "      <td>5360.757324</td>\n",
              "      <td>0.0</td>\n",
              "      <td>5409.891439</td>\n",
              "      <td>5495.746680</td>\n",
              "    </tr>\n",
              "    <tr>\n",
              "      <th>84</th>\n",
              "      <td>2000-05-01</td>\n",
              "      <td>6000.0</td>\n",
              "      <td>6000.0</td>\n",
              "      <td>6000.0</td>\n",
              "      <td>6000.0</td>\n",
              "      <td>4654.781250</td>\n",
              "      <td>0.0</td>\n",
              "      <td>4499.622070</td>\n",
              "      <td>4443.765039</td>\n",
              "    </tr>\n",
              "    <tr>\n",
              "      <th>...</th>\n",
              "      <td>...</td>\n",
              "      <td>...</td>\n",
              "      <td>...</td>\n",
              "      <td>...</td>\n",
              "      <td>...</td>\n",
              "      <td>...</td>\n",
              "      <td>...</td>\n",
              "      <td>...</td>\n",
              "      <td>...</td>\n",
              "    </tr>\n",
              "    <tr>\n",
              "      <th>4623</th>\n",
              "      <td>2018-04-30</td>\n",
              "      <td>53000.0</td>\n",
              "      <td>53000.0</td>\n",
              "      <td>53000.0</td>\n",
              "      <td>53000.0</td>\n",
              "      <td>47819.117190</td>\n",
              "      <td>0.0</td>\n",
              "      <td>47560.473960</td>\n",
              "      <td>46736.421880</td>\n",
              "    </tr>\n",
              "    <tr>\n",
              "      <th>4624</th>\n",
              "      <td>2018-05-02</td>\n",
              "      <td>53000.0</td>\n",
              "      <td>53000.0</td>\n",
              "      <td>53000.0</td>\n",
              "      <td>53000.0</td>\n",
              "      <td>47819.117190</td>\n",
              "      <td>0.0</td>\n",
              "      <td>47819.117190</td>\n",
              "      <td>47194.763280</td>\n",
              "    </tr>\n",
              "    <tr>\n",
              "      <th>4625</th>\n",
              "      <td>2018-05-03</td>\n",
              "      <td>53000.0</td>\n",
              "      <td>53000.0</td>\n",
              "      <td>53000.0</td>\n",
              "      <td>53000.0</td>\n",
              "      <td>47819.117190</td>\n",
              "      <td>0.0</td>\n",
              "      <td>47819.117190</td>\n",
              "      <td>47663.931250</td>\n",
              "    </tr>\n",
              "    <tr>\n",
              "      <th>5077</th>\n",
              "      <td>2020-03-09</td>\n",
              "      <td>56500.0</td>\n",
              "      <td>56500.0</td>\n",
              "      <td>56500.0</td>\n",
              "      <td>56500.0</td>\n",
              "      <td>53774.468750</td>\n",
              "      <td>0.0</td>\n",
              "      <td>54186.897140</td>\n",
              "      <td>53983.855470</td>\n",
              "    </tr>\n",
              "    <tr>\n",
              "      <th>5080</th>\n",
              "      <td>2020-03-12</td>\n",
              "      <td>52100.0</td>\n",
              "      <td>52100.0</td>\n",
              "      <td>52100.0</td>\n",
              "      <td>52100.0</td>\n",
              "      <td>49586.722660</td>\n",
              "      <td>0.0</td>\n",
              "      <td>50379.856770</td>\n",
              "      <td>51737.701560</td>\n",
              "    </tr>\n",
              "  </tbody>\n",
              "</table>\n",
              "<p>116 rows × 9 columns</p>\n",
              "</div>\n",
              "      <button class=\"colab-df-convert\" onclick=\"convertToInteractive('df-63f9a5e0-6aff-4add-a2a4-a3f5ffbec181')\"\n",
              "              title=\"Convert this dataframe to an interactive table.\"\n",
              "              style=\"display:none;\">\n",
              "        \n",
              "  <svg xmlns=\"http://www.w3.org/2000/svg\" height=\"24px\"viewBox=\"0 0 24 24\"\n",
              "       width=\"24px\">\n",
              "    <path d=\"M0 0h24v24H0V0z\" fill=\"none\"/>\n",
              "    <path d=\"M18.56 5.44l.94 2.06.94-2.06 2.06-.94-2.06-.94-.94-2.06-.94 2.06-2.06.94zm-11 1L8.5 8.5l.94-2.06 2.06-.94-2.06-.94L8.5 2.5l-.94 2.06-2.06.94zm10 10l.94 2.06.94-2.06 2.06-.94-2.06-.94-.94-2.06-.94 2.06-2.06.94z\"/><path d=\"M17.41 7.96l-1.37-1.37c-.4-.4-.92-.59-1.43-.59-.52 0-1.04.2-1.43.59L10.3 9.45l-7.72 7.72c-.78.78-.78 2.05 0 2.83L4 21.41c.39.39.9.59 1.41.59.51 0 1.02-.2 1.41-.59l7.78-7.78 2.81-2.81c.8-.78.8-2.07 0-2.86zM5.41 20L4 18.59l7.72-7.72 1.47 1.35L5.41 20z\"/>\n",
              "  </svg>\n",
              "      </button>\n",
              "      \n",
              "  <style>\n",
              "    .colab-df-container {\n",
              "      display:flex;\n",
              "      flex-wrap:wrap;\n",
              "      gap: 12px;\n",
              "    }\n",
              "\n",
              "    .colab-df-convert {\n",
              "      background-color: #E8F0FE;\n",
              "      border: none;\n",
              "      border-radius: 50%;\n",
              "      cursor: pointer;\n",
              "      display: none;\n",
              "      fill: #1967D2;\n",
              "      height: 32px;\n",
              "      padding: 0 0 0 0;\n",
              "      width: 32px;\n",
              "    }\n",
              "\n",
              "    .colab-df-convert:hover {\n",
              "      background-color: #E2EBFA;\n",
              "      box-shadow: 0px 1px 2px rgba(60, 64, 67, 0.3), 0px 1px 3px 1px rgba(60, 64, 67, 0.15);\n",
              "      fill: #174EA6;\n",
              "    }\n",
              "\n",
              "    [theme=dark] .colab-df-convert {\n",
              "      background-color: #3B4455;\n",
              "      fill: #D2E3FC;\n",
              "    }\n",
              "\n",
              "    [theme=dark] .colab-df-convert:hover {\n",
              "      background-color: #434B5C;\n",
              "      box-shadow: 0px 1px 3px 1px rgba(0, 0, 0, 0.15);\n",
              "      filter: drop-shadow(0px 1px 2px rgba(0, 0, 0, 0.3));\n",
              "      fill: #FFFFFF;\n",
              "    }\n",
              "  </style>\n",
              "\n",
              "      <script>\n",
              "        const buttonEl =\n",
              "          document.querySelector('#df-63f9a5e0-6aff-4add-a2a4-a3f5ffbec181 button.colab-df-convert');\n",
              "        buttonEl.style.display =\n",
              "          google.colab.kernel.accessAllowed ? 'block' : 'none';\n",
              "\n",
              "        async function convertToInteractive(key) {\n",
              "          const element = document.querySelector('#df-63f9a5e0-6aff-4add-a2a4-a3f5ffbec181');\n",
              "          const dataTable =\n",
              "            await google.colab.kernel.invokeFunction('convertToInteractive',\n",
              "                                                     [key], {});\n",
              "          if (!dataTable) return;\n",
              "\n",
              "          const docLinkHtml = 'Like what you see? Visit the ' +\n",
              "            '<a target=\"_blank\" href=https://colab.research.google.com/notebooks/data_table.ipynb>data table notebook</a>'\n",
              "            + ' to learn more about interactive tables.';\n",
              "          element.innerHTML = '';\n",
              "          dataTable['output_type'] = 'display_data';\n",
              "          await google.colab.output.renderOutput(dataTable, element);\n",
              "          const docLink = document.createElement('div');\n",
              "          docLink.innerHTML = docLinkHtml;\n",
              "          element.appendChild(docLink);\n",
              "        }\n",
              "      </script>\n",
              "    </div>\n",
              "  </div>\n",
              "  "
            ],
            "text/plain": [
              "            Date     Open     High  ...  Volume           3MA           5MA\n",
              "23    2000-02-04   5130.0   5130.0  ...     0.0   4010.871419   4097.760644\n",
              "41    2000-03-01   5120.0   5120.0  ...     0.0   3889.329834   3914.672510\n",
              "66    2000-04-05   6800.0   6800.0  ...     0.0   5353.000163   5345.242773\n",
              "72    2000-04-13   6910.0   6910.0  ...     0.0   5409.891439   5495.746680\n",
              "84    2000-05-01   6000.0   6000.0  ...     0.0   4499.622070   4443.765039\n",
              "...          ...      ...      ...  ...     ...           ...           ...\n",
              "4623  2018-04-30  53000.0  53000.0  ...     0.0  47560.473960  46736.421880\n",
              "4624  2018-05-02  53000.0  53000.0  ...     0.0  47819.117190  47194.763280\n",
              "4625  2018-05-03  53000.0  53000.0  ...     0.0  47819.117190  47663.931250\n",
              "5077  2020-03-09  56500.0  56500.0  ...     0.0  54186.897140  53983.855470\n",
              "5080  2020-03-12  52100.0  52100.0  ...     0.0  50379.856770  51737.701560\n",
              "\n",
              "[116 rows x 9 columns]"
            ]
          },
          "metadata": {},
          "execution_count": 29
        }
      ]
    },
    {
      "cell_type": "code",
      "metadata": {
        "colab": {
          "base_uri": "https://localhost:8080/"
        },
        "id": "Ac7ieaSiUkYl",
        "outputId": "c29a2b98-4b9f-4021-a45a-c7771b6c93ee"
      },
      "source": [
        "# 각 column에 0 몇개인지 확인\n",
        "\n",
        "for col in raw_df.columns:\n",
        "\n",
        "    missing_rows = raw_df.loc[raw_df[col]==0].shape[0]\n",
        "    print(col + ': ' + str(missing_rows))"
      ],
      "execution_count": 30,
      "outputs": [
        {
          "output_type": "stream",
          "name": "stdout",
          "text": [
            "Date: 0\n",
            "Open: 0\n",
            "High: 0\n",
            "Low: 0\n",
            "Close: 0\n",
            "Adj Close: 0\n",
            "Volume: 116\n",
            "3MA: 0\n",
            "5MA: 0\n"
          ]
        }
      ]
    },
    {
      "cell_type": "code",
      "source": [
        "raw_df = raw_df.dropna()\n",
        "raw_df.isnull().sum"
      ],
      "metadata": {
        "colab": {
          "base_uri": "https://localhost:8080/"
        },
        "id": "P7GIi3G7OlHY",
        "outputId": "0ed0417e-56e8-4654-fe1b-f635a857977c"
      },
      "execution_count": 33,
      "outputs": [
        {
          "output_type": "execute_result",
          "data": {
            "text/plain": [
              "Date         0\n",
              "Open         0\n",
              "High         0\n",
              "Low          0\n",
              "Close        0\n",
              "Adj Close    0\n",
              "Volume       0\n",
              "3MA          0\n",
              "5MA          0\n",
              "dtype: int64"
            ]
          },
          "metadata": {},
          "execution_count": 33
        }
      ]
    },
    {
      "cell_type": "code",
      "metadata": {
        "colab": {
          "base_uri": "https://localhost:8080/"
        },
        "id": "EqPvPM4UVskp",
        "outputId": "5739ab10-5185-47f5-cd49-34c45605d920"
      },
      "source": [
        "# 먼저 0 을 NaN 으로 바꾼후, Missing Data 처리\n",
        "\n",
        "raw_df['Volume'] = raw_df['Volume'].replace(0, np.nan)\n",
        "\n",
        "# 각 column에 0 몇개인지 확인\n",
        "\n",
        "for col in raw_df.columns:\n",
        "\n",
        "    missing_rows = raw_df.loc[raw_df[col]==0].shape[0]\n",
        "    print(col + ': ' + str(missing_rows))"
      ],
      "execution_count": 31,
      "outputs": [
        {
          "output_type": "stream",
          "name": "stdout",
          "text": [
            "Date: 0\n",
            "Open: 0\n",
            "High: 0\n",
            "Low: 0\n",
            "Close: 0\n",
            "Adj Close: 0\n",
            "Volume: 0\n",
            "3MA: 0\n",
            "5MA: 0\n"
          ]
        }
      ]
    },
    {
      "cell_type": "code",
      "metadata": {
        "colab": {
          "base_uri": "https://localhost:8080/"
        },
        "id": "BJ2attPDfw3E",
        "outputId": "11e7b57e-3242-47d4-f4a5-57612a726a52"
      },
      "source": [
        "# missing data 확인\n",
        "\n",
        "raw_df.isnull().sum()"
      ],
      "execution_count": null,
      "outputs": [
        {
          "output_type": "execute_result",
          "data": {
            "text/plain": [
              "Date           0\n",
              "Open           6\n",
              "High           6\n",
              "Low            6\n",
              "Close          6\n",
              "Adj Close      6\n",
              "Volume       122\n",
              "3MA            2\n",
              "5MA            4\n",
              "dtype: int64"
            ]
          },
          "metadata": {
            "tags": []
          },
          "execution_count": 15
        }
      ]
    },
    {
      "cell_type": "code",
      "metadata": {
        "colab": {
          "base_uri": "https://localhost:8080/"
        },
        "id": "l470iWLyhhzF",
        "outputId": "d0ccc011-4133-45a7-eed9-761265bfdfac"
      },
      "source": [
        "raw_df.isnull().any()"
      ],
      "execution_count": null,
      "outputs": [
        {
          "output_type": "execute_result",
          "data": {
            "text/plain": [
              "Date         False\n",
              "Open          True\n",
              "High          True\n",
              "Low           True\n",
              "Close         True\n",
              "Adj Close     True\n",
              "Volume        True\n",
              "3MA           True\n",
              "5MA           True\n",
              "dtype: bool"
            ]
          },
          "metadata": {
            "tags": []
          },
          "execution_count": 16
        }
      ]
    },
    {
      "cell_type": "code",
      "metadata": {
        "colab": {
          "base_uri": "https://localhost:8080/",
          "height": 237
        },
        "id": "Ves_xphWh182",
        "outputId": "8d32d8b7-7a2a-4800-892d-f5f7b2692f26"
      },
      "source": [
        "raw_df.loc[raw_df['Open'].isna()]"
      ],
      "execution_count": null,
      "outputs": [
        {
          "output_type": "execute_result",
          "data": {
            "text/html": [
              "<div>\n",
              "<style scoped>\n",
              "    .dataframe tbody tr th:only-of-type {\n",
              "        vertical-align: middle;\n",
              "    }\n",
              "\n",
              "    .dataframe tbody tr th {\n",
              "        vertical-align: top;\n",
              "    }\n",
              "\n",
              "    .dataframe thead th {\n",
              "        text-align: right;\n",
              "    }\n",
              "</style>\n",
              "<table border=\"1\" class=\"dataframe\">\n",
              "  <thead>\n",
              "    <tr style=\"text-align: right;\">\n",
              "      <th></th>\n",
              "      <th>Date</th>\n",
              "      <th>Open</th>\n",
              "      <th>High</th>\n",
              "      <th>Low</th>\n",
              "      <th>Close</th>\n",
              "      <th>Adj Close</th>\n",
              "      <th>Volume</th>\n",
              "      <th>3MA</th>\n",
              "      <th>5MA</th>\n",
              "    </tr>\n",
              "  </thead>\n",
              "  <tbody>\n",
              "    <tr>\n",
              "      <th>1304</th>\n",
              "      <td>2005-01-03</td>\n",
              "      <td>NaN</td>\n",
              "      <td>NaN</td>\n",
              "      <td>NaN</td>\n",
              "      <td>NaN</td>\n",
              "      <td>NaN</td>\n",
              "      <td>NaN</td>\n",
              "      <td>6989.931152</td>\n",
              "      <td>6910.412353</td>\n",
              "    </tr>\n",
              "    <tr>\n",
              "      <th>4513</th>\n",
              "      <td>2017-11-16</td>\n",
              "      <td>NaN</td>\n",
              "      <td>NaN</td>\n",
              "      <td>NaN</td>\n",
              "      <td>NaN</td>\n",
              "      <td>NaN</td>\n",
              "      <td>NaN</td>\n",
              "      <td>49382.673830</td>\n",
              "      <td>49719.997070</td>\n",
              "    </tr>\n",
              "    <tr>\n",
              "      <th>4518</th>\n",
              "      <td>2017-11-23</td>\n",
              "      <td>NaN</td>\n",
              "      <td>NaN</td>\n",
              "      <td>NaN</td>\n",
              "      <td>NaN</td>\n",
              "      <td>NaN</td>\n",
              "      <td>NaN</td>\n",
              "      <td>49373.792970</td>\n",
              "      <td>49324.969730</td>\n",
              "    </tr>\n",
              "    <tr>\n",
              "      <th>4542</th>\n",
              "      <td>2018-01-02</td>\n",
              "      <td>NaN</td>\n",
              "      <td>NaN</td>\n",
              "      <td>NaN</td>\n",
              "      <td>NaN</td>\n",
              "      <td>NaN</td>\n",
              "      <td>NaN</td>\n",
              "      <td>44927.763670</td>\n",
              "      <td>44190.302730</td>\n",
              "    </tr>\n",
              "    <tr>\n",
              "      <th>4755</th>\n",
              "      <td>2018-11-15</td>\n",
              "      <td>NaN</td>\n",
              "      <td>NaN</td>\n",
              "      <td>NaN</td>\n",
              "      <td>NaN</td>\n",
              "      <td>NaN</td>\n",
              "      <td>NaN</td>\n",
              "      <td>40569.835940</td>\n",
              "      <td>40775.886720</td>\n",
              "    </tr>\n",
              "    <tr>\n",
              "      <th>5000</th>\n",
              "      <td>2019-11-14</td>\n",
              "      <td>NaN</td>\n",
              "      <td>NaN</td>\n",
              "      <td>NaN</td>\n",
              "      <td>NaN</td>\n",
              "      <td>NaN</td>\n",
              "      <td>NaN</td>\n",
              "      <td>49695.419920</td>\n",
              "      <td>49364.432620</td>\n",
              "    </tr>\n",
              "  </tbody>\n",
              "</table>\n",
              "</div>"
            ],
            "text/plain": [
              "            Date  Open  High  ...  Volume           3MA           5MA\n",
              "1304  2005-01-03   NaN   NaN  ...     NaN   6989.931152   6910.412353\n",
              "4513  2017-11-16   NaN   NaN  ...     NaN  49382.673830  49719.997070\n",
              "4518  2017-11-23   NaN   NaN  ...     NaN  49373.792970  49324.969730\n",
              "4542  2018-01-02   NaN   NaN  ...     NaN  44927.763670  44190.302730\n",
              "4755  2018-11-15   NaN   NaN  ...     NaN  40569.835940  40775.886720\n",
              "5000  2019-11-14   NaN   NaN  ...     NaN  49695.419920  49364.432620\n",
              "\n",
              "[6 rows x 9 columns]"
            ]
          },
          "metadata": {
            "tags": []
          },
          "execution_count": 17
        }
      ]
    },
    {
      "cell_type": "code",
      "metadata": {
        "colab": {
          "base_uri": "https://localhost:8080/"
        },
        "id": "eIKrl7HwjxUh",
        "outputId": "6ecc1594-76e9-46d9-d45e-e5285cbd3e1b"
      },
      "source": [
        "# missing data 처리\n",
        "\n",
        "raw_df = raw_df.dropna()\n",
        "\n",
        "raw_df.isnull().sum()"
      ],
      "execution_count": null,
      "outputs": [
        {
          "output_type": "execute_result",
          "data": {
            "text/plain": [
              "Date         0\n",
              "Open         0\n",
              "High         0\n",
              "Low          0\n",
              "Close        0\n",
              "Adj Close    0\n",
              "Volume       0\n",
              "3MA          0\n",
              "5MA          0\n",
              "dtype: int64"
            ]
          },
          "metadata": {
            "tags": []
          },
          "execution_count": 18
        }
      ]
    },
    {
      "cell_type": "code",
      "source": [
        "# 딥러닝 학습이 잘되기 위해서는 정규화 작업이 필요함.\n",
        "즉 날짜를 나타내는 Date항목을 제외한 숫자로 표현되는 모든 컬럼에 대해서 0~1로 정규화"
      ],
      "metadata": {
        "id": "21h32wB7O7XN"
      },
      "execution_count": null,
      "outputs": []
    },
    {
      "cell_type": "code",
      "metadata": {
        "colab": {
          "base_uri": "https://localhost:8080/"
        },
        "id": "pWjPDWKXz1Ap",
        "outputId": "4ca07eb5-12b9-4cf4-b719-9b3b2a0dfc13"
      },
      "source": [
        "# 정규화 (Date 제외한 모든 수치부분 정규화)\n",
        "\n",
        "from sklearn.preprocessing import MinMaxScaler\n",
        "\n",
        "scaler = MinMaxScaler()\n",
        "\n",
        "scale_cols = ['Open', 'High', 'Low', 'Close', 'Adj Close',\n",
        "              '3MA', '5MA', 'Volume']\n",
        "\n",
        "scaled_df = scaler.fit_transform(raw_df[scale_cols])\n",
        "\n",
        "scaled_df = pd.DataFrame(scaled_df, columns=scale_cols)\n",
        "\n",
        "print(scaled_df)"
      ],
      "execution_count": 34,
      "outputs": [
        {
          "output_type": "stream",
          "name": "stdout",
          "text": [
            "          Open      High       Low  ...       3MA       5MA    Volume\n",
            "0     0.034868  0.032008  0.036288  ...  0.025192  0.025698  0.285359\n",
            "1     0.037375  0.035517  0.038470  ...  0.025634  0.025094  0.363715\n",
            "2     0.034982  0.031689  0.036518  ...  0.026163  0.025343  0.177799\n",
            "3     0.034868  0.031689  0.036059  ...  0.025987  0.025503  0.250704\n",
            "4     0.036235  0.033177  0.037437  ...  0.026163  0.026018  0.300555\n",
            "...        ...       ...       ...  ...       ...       ...       ...\n",
            "5264  0.891750  0.830923  0.896647  ...  0.895299  0.903144  0.064088\n",
            "5265  0.892890  0.834113  0.897795  ...  0.894920  0.900854  0.061199\n",
            "5266  0.899727  0.841557  0.903537  ...  0.897955  0.902457  0.091190\n",
            "5267  0.895169  0.835177  0.898944  ...  0.899472  0.902228  0.085145\n",
            "5268  0.895169  0.833050  0.896647  ...  0.897955  0.901083  0.090683\n",
            "\n",
            "[5269 rows x 8 columns]\n"
          ]
        }
      ]
    },
    {
      "cell_type": "markdown",
      "metadata": {
        "id": "XEocuNgdjv9f"
      },
      "source": [
        "주가예측을 위해 3MA, 5MA, Adj Close 항목을 feature 선정\n",
        " - 정답은 Adj Close 선정\n",
        " - 시계열 데이터를 위한 window_size = 40 선정"
      ]
    },
    {
      "cell_type": "code",
      "metadata": {
        "id": "_Dekc31jpHlz"
      },
      "source": [
        "# 입력 파라미터 feature, label => numpy type\n",
        "\n",
        "def make_sequene_dataset(feature, label, window_size):\n",
        "\n",
        "    feature_list = []      # 생성될 feature list\n",
        "    label_list = []        # 생성될 label list\n",
        "\n",
        "    for i in range(len(feature)-window_size):\n",
        "\n",
        "        feature_list.append(feature[i:i+window_size])\n",
        "        label_list.append(label[i+window_size])\n",
        "\n",
        "    return np.array(feature_list), np.array(label_list)"
      ],
      "execution_count": 35,
      "outputs": []
    },
    {
      "cell_type": "code",
      "metadata": {
        "id": "xB3BIwF-nPrw"
      },
      "source": [
        "# feature_df, label_df 생성\n",
        "\n",
        "feature_cols = [ '3MA', '5MA', 'Adj Close' ]\n",
        "label_cols = [ 'Adj Close' ]\n",
        "\n",
        "feature_df = pd.DataFrame(scaled_df, columns=feature_cols)\n",
        "label_df = pd.DataFrame(scaled_df, columns=label_cols)"
      ],
      "execution_count": 36,
      "outputs": []
    },
    {
      "cell_type": "code",
      "metadata": {
        "colab": {
          "base_uri": "https://localhost:8080/"
        },
        "id": "DWutUAPSn62i",
        "outputId": "8a6b9aad-d9d9-4048-fcea-64a08e42858f"
      },
      "source": [
        "# DataFrame => Numpy 변환\n",
        "\n",
        "feature_np = feature_df.to_numpy()\n",
        "label_np = label_df.to_numpy()\n",
        "\n",
        "print(feature_np.shape, label_np.shape)"
      ],
      "execution_count": 37,
      "outputs": [
        {
          "output_type": "stream",
          "name": "stdout",
          "text": [
            "(5269, 3) (5269, 1)\n"
          ]
        }
      ]
    },
    {
      "cell_type": "markdown",
      "metadata": {
        "id": "fvHj457p-dzb"
      },
      "source": [
        "시계열 데이터 생성 (make_sequence_dataset)"
      ]
    },
    {
      "cell_type": "code",
      "source": [
        "# 학습 데이터 X, Y 생성"
      ],
      "metadata": {
        "id": "KfZHHYW7PfrC"
      },
      "execution_count": null,
      "outputs": []
    },
    {
      "cell_type": "code",
      "metadata": {
        "colab": {
          "base_uri": "https://localhost:8080/"
        },
        "id": "aCTkuL3bn_8-",
        "outputId": "71c795a9-dd18-43f5-8d78-dc7d99a11638"
      },
      "source": [
        "window_size = 40\n",
        "\n",
        "X, Y = make_sequene_dataset(feature_np, label_np, window_size)\n",
        "\n",
        "print(X.shape, Y.shape)"
      ],
      "execution_count": 38,
      "outputs": [
        {
          "output_type": "stream",
          "name": "stdout",
          "text": [
            "(5229, 40, 3) (5229, 1)\n"
          ]
        }
      ]
    },
    {
      "cell_type": "markdown",
      "metadata": {
        "id": "6wTuyxnw-ZNC"
      },
      "source": [
        "학습데이터, 테스트데이터 생성"
      ]
    },
    {
      "cell_type": "code",
      "metadata": {
        "colab": {
          "base_uri": "https://localhost:8080/"
        },
        "id": "pDekSzzpoIiO",
        "outputId": "043fec2e-c93a-459e-97d8-03ff370cf4ae"
      },
      "source": [
        "# train, test 분리\n",
        "\n",
        "#split = int(len(X)*0.95)\n",
        "split = -200\n",
        "\n",
        "x_train = X[0:split]\n",
        "y_train = Y[0:split]\n",
        "\n",
        "x_test = X[split:]\n",
        "y_test = Y[split:]\n",
        "\n",
        "print(x_train.shape, y_train.shape)\n",
        "print(x_test.shape, y_test.shape)"
      ],
      "execution_count": 41,
      "outputs": [
        {
          "output_type": "stream",
          "name": "stdout",
          "text": [
            "(5029, 40, 3) (5029, 1)\n",
            "(200, 40, 3) (200, 1)\n"
          ]
        }
      ]
    },
    {
      "cell_type": "markdown",
      "metadata": {
        "id": "Sc9d9NJB-jV0"
      },
      "source": [
        "모델 구축 및 컴파일"
      ]
    },
    {
      "cell_type": "code",
      "metadata": {
        "id": "s66hRSnAoK0D"
      },
      "source": [
        "# model 생성\n",
        "\n",
        "model = Sequential()\n",
        "\n",
        "model.add(LSTM(128, activation='tanh', input_shape=x_train[0].shape))\n",
        "\n",
        "model.add(Dense(1, activation='linear'))"
      ],
      "execution_count": 42,
      "outputs": []
    },
    {
      "cell_type": "code",
      "metadata": {
        "colab": {
          "base_uri": "https://localhost:8080/"
        },
        "id": "yBlP2iimoNay",
        "outputId": "488d03a0-c30c-4588-bdc8-cdb72b041ca1"
      },
      "source": [
        "model.compile(loss='mse', optimizer='adam', metrics=['mae'])\n",
        "\n",
        "model.summary()"
      ],
      "execution_count": 44,
      "outputs": [
        {
          "output_type": "stream",
          "name": "stdout",
          "text": [
            "Model: \"sequential_1\"\n",
            "_________________________________________________________________\n",
            " Layer (type)                Output Shape              Param #   \n",
            "=================================================================\n",
            " lstm_1 (LSTM)               (None, 128)               67584     \n",
            "                                                                 \n",
            " dense_1 (Dense)             (None, 1)                 129       \n",
            "                                                                 \n",
            "=================================================================\n",
            "Total params: 67,713\n",
            "Trainable params: 67,713\n",
            "Non-trainable params: 0\n",
            "_________________________________________________________________\n"
          ]
        }
      ]
    },
    {
      "cell_type": "markdown",
      "metadata": {
        "id": "t_9GD7Vg-mHw"
      },
      "source": [
        "모델 학습 (EarlyStopping 적용)"
      ]
    },
    {
      "cell_type": "code",
      "metadata": {
        "colab": {
          "base_uri": "https://localhost:8080/"
        },
        "id": "xpAYLcPHoPUd",
        "outputId": "2c058587-589a-417c-f0ca-89b98c79232c"
      },
      "source": [
        "from tensorflow.keras.callbacks import EarlyStopping\n",
        "\n",
        "early_stop = EarlyStopping(monitor='val_loss', patience=5)\n",
        "\n",
        "model.fit(x_train, y_train, \n",
        "          validation_data=(x_test, y_test),\n",
        "          epochs=100, batch_size=16,\n",
        "          callbacks=[early_stop])"
      ],
      "execution_count": 45,
      "outputs": [
        {
          "output_type": "stream",
          "name": "stdout",
          "text": [
            "Epoch 1/100\n",
            "315/315 [==============================] - 10s 15ms/step - loss: 4.3627e-04 - mae: 0.0087 - val_loss: 9.1583e-04 - val_mae: 0.0205\n",
            "Epoch 2/100\n",
            "315/315 [==============================] - 4s 13ms/step - loss: 8.0972e-05 - mae: 0.0060 - val_loss: 7.6445e-04 - val_mae: 0.0187\n",
            "Epoch 3/100\n",
            "315/315 [==============================] - 4s 13ms/step - loss: 7.8913e-05 - mae: 0.0058 - val_loss: 0.0014 - val_mae: 0.0305\n",
            "Epoch 4/100\n",
            "315/315 [==============================] - 4s 13ms/step - loss: 7.0504e-05 - mae: 0.0056 - val_loss: 4.4952e-04 - val_mae: 0.0159\n",
            "Epoch 5/100\n",
            "315/315 [==============================] - 4s 13ms/step - loss: 6.9922e-05 - mae: 0.0055 - val_loss: 5.6089e-04 - val_mae: 0.0197\n",
            "Epoch 6/100\n",
            "315/315 [==============================] - 4s 13ms/step - loss: 6.5118e-05 - mae: 0.0054 - val_loss: 3.4750e-04 - val_mae: 0.0134\n",
            "Epoch 7/100\n",
            "315/315 [==============================] - 4s 13ms/step - loss: 5.5365e-05 - mae: 0.0050 - val_loss: 3.2008e-04 - val_mae: 0.0131\n",
            "Epoch 8/100\n",
            "315/315 [==============================] - 4s 13ms/step - loss: 5.1800e-05 - mae: 0.0048 - val_loss: 3.0879e-04 - val_mae: 0.0133\n",
            "Epoch 9/100\n",
            "315/315 [==============================] - 4s 13ms/step - loss: 4.8949e-05 - mae: 0.0047 - val_loss: 5.8153e-04 - val_mae: 0.0190\n",
            "Epoch 10/100\n",
            "315/315 [==============================] - 4s 13ms/step - loss: 4.5528e-05 - mae: 0.0045 - val_loss: 3.0211e-04 - val_mae: 0.0123\n",
            "Epoch 11/100\n",
            "315/315 [==============================] - 4s 13ms/step - loss: 4.1060e-05 - mae: 0.0044 - val_loss: 6.0896e-04 - val_mae: 0.0200\n",
            "Epoch 12/100\n",
            "315/315 [==============================] - 4s 13ms/step - loss: 3.6076e-05 - mae: 0.0040 - val_loss: 2.3848e-04 - val_mae: 0.0115\n",
            "Epoch 13/100\n",
            "315/315 [==============================] - 4s 13ms/step - loss: 3.9657e-05 - mae: 0.0043 - val_loss: 4.2516e-04 - val_mae: 0.0160\n",
            "Epoch 14/100\n",
            "315/315 [==============================] - 4s 14ms/step - loss: 3.3004e-05 - mae: 0.0039 - val_loss: 4.1315e-04 - val_mae: 0.0158\n",
            "Epoch 15/100\n",
            "315/315 [==============================] - 4s 14ms/step - loss: 3.2285e-05 - mae: 0.0038 - val_loss: 2.0525e-04 - val_mae: 0.0101\n",
            "Epoch 16/100\n",
            "315/315 [==============================] - 4s 14ms/step - loss: 3.4398e-05 - mae: 0.0040 - val_loss: 2.0371e-04 - val_mae: 0.0100\n",
            "Epoch 17/100\n",
            "315/315 [==============================] - 4s 14ms/step - loss: 3.0735e-05 - mae: 0.0038 - val_loss: 1.8795e-04 - val_mae: 0.0101\n",
            "Epoch 18/100\n",
            "315/315 [==============================] - 4s 13ms/step - loss: 2.9005e-05 - mae: 0.0036 - val_loss: 3.1899e-04 - val_mae: 0.0136\n",
            "Epoch 19/100\n",
            "315/315 [==============================] - 4s 13ms/step - loss: 2.8844e-05 - mae: 0.0037 - val_loss: 3.4671e-04 - val_mae: 0.0144\n",
            "Epoch 20/100\n",
            "315/315 [==============================] - 4s 13ms/step - loss: 3.0035e-05 - mae: 0.0037 - val_loss: 6.2103e-04 - val_mae: 0.0211\n",
            "Epoch 21/100\n",
            "315/315 [==============================] - 4s 13ms/step - loss: 2.7584e-05 - mae: 0.0035 - val_loss: 2.4466e-04 - val_mae: 0.0114\n",
            "Epoch 22/100\n",
            "315/315 [==============================] - 4s 14ms/step - loss: 2.6944e-05 - mae: 0.0035 - val_loss: 2.2554e-04 - val_mae: 0.0108\n"
          ]
        },
        {
          "output_type": "execute_result",
          "data": {
            "text/plain": [
              "<keras.callbacks.History at 0x7f894955b2d0>"
            ]
          },
          "metadata": {},
          "execution_count": 45
        }
      ]
    },
    {
      "cell_type": "markdown",
      "metadata": {
        "id": "CN5J-MPa-q9_"
      },
      "source": [
        "예측을 통한 정답과의 비교 \n",
        "(오차계산 MAPE 사용, 평균절대값백분율오차)"
      ]
    },
    {
      "cell_type": "code",
      "metadata": {
        "colab": {
          "base_uri": "https://localhost:8080/",
          "height": 404
        },
        "id": "iUUCbGgQoSQ1",
        "outputId": "7f330c55-4023-4083-f0c5-6145a140ff1e"
      },
      "source": [
        "pred = model.predict(x_test)\n",
        "\n",
        "plt.figure(figsize=(12, 6))\n",
        "plt.title('3MA + 5MA + Adj Close, window_size=40')\n",
        "plt.ylabel('adj close')\n",
        "plt.xlabel('period')\n",
        "plt.plot(y_test, label='actual')\n",
        "plt.plot(pred, label='prediction')\n",
        "plt.grid()\n",
        "plt.legend(loc='best')\n",
        "\n",
        "plt.show()"
      ],
      "execution_count": 46,
      "outputs": [
        {
          "output_type": "display_data",
          "data": {
            "image/png": "[encoded data removed]",
            "text/plain": [
              "<Figure size 864x432 with 1 Axes>"
            ]
          },
          "metadata": {
            "needs_background": "light"
          }
        }
      ]
    },
    {
      "cell_type": "code",
      "metadata": {
        "colab": {
          "base_uri": "https://localhost:8080/"
        },
        "id": "3rpiFjKRoZlk",
        "outputId": "6224ac98-867b-48f3-87cf-fb18835c3fd4"
      },
      "source": [
        "# 평균절대값백분율오차계산 (MAPE)\n",
        "\n",
        "print( np.sum(abs(y_test-pred)/y_test) / len(x_test) )"
      ],
      "execution_count": null,
      "outputs": [
        {
          "output_type": "stream",
          "text": [
            "0.01224175273632353\n"
          ],
          "name": "stdout"
        }
      ]
    }
  ]
}
